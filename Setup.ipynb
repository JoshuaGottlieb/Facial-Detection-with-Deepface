{
 "cells": [
  {
   "cell_type": "code",
   "execution_count": 1,
   "id": "3d888070",
   "metadata": {},
   "outputs": [
    {
     "name": "stderr",
     "output_type": "stream",
     "text": [
      "/usr/lib/python3/dist-packages/requests/__init__.py:89: RequestsDependencyWarning: urllib3 (1.26.15) or chardet (3.0.4) doesn't match a supported version!\n",
      "  warnings.warn(\"urllib3 ({}) or chardet ({}) doesn't match a supported \"\n"
     ]
    }
   ],
   "source": [
    "import requests\n",
    "import os\n",
    "import tarfile\n",
    "import shutil"
   ]
  },
  {
   "cell_type": "code",
   "execution_count": 2,
   "id": "4a78d6f4",
   "metadata": {},
   "outputs": [],
   "source": [
    "# Generic function to download a file from target url and write to a designated path\n",
    "def download_file(url, path, write_type = 'w', verify = False):\n",
    "    if write_type not in ['w', 'wb']:\n",
    "        print('Error. write_type must be w or wb')\n",
    "        \n",
    "        return\n",
    "    \n",
    "    print(f'Retrieving response from {url}')\n",
    "    r = requests.get(url, verify = verify)\n",
    "    \n",
    "    if r.status_code == 200:\n",
    "        print(f'Response successful, writing to {path}')\n",
    "        \n",
    "        with open(path, write_type) as f:\n",
    "            if write_type == 'w':\n",
    "                f.write(r.text)\n",
    "            elif write_type == 'wb':\n",
    "                f.write(r.content)\n",
    "        \n",
    "        print(f'Successfully written to {path}')\n",
    "        \n",
    "        return\n",
    "        \n",
    "    print(f'Response unsuccessful, response code: {r.status_code}')\n",
    "    \n",
    "    return"
   ]
  },
  {
   "cell_type": "code",
   "execution_count": 3,
   "id": "55d0bce4",
   "metadata": {},
   "outputs": [],
   "source": [
    "# Create File Structures\n",
    "top_path = './data'\n",
    "paths = ['raw', 'preprocessed', 'vectorized']\n",
    "# raw_path = './data/raw'\n",
    "# pre_processed = './data/preprocessed'\n",
    "# vectorized = './data/vectorized'\n",
    "# paths = [raw_path, pre_processed, vectorized]\n",
    "partitions = ['train', 'test']\n",
    "\n",
    "for path in paths:\n",
    "    for partition in partitions:\n",
    "        full_path = os.path.join(top_path, path, partition)\n",
    "        if not os.path.exists(full_path):\n",
    "            os.makedirs(full_path)"
   ]
  },
  {
   "cell_type": "code",
   "execution_count": 4,
   "id": "e3132602",
   "metadata": {},
   "outputs": [
    {
     "name": "stdout",
     "output_type": "stream",
     "text": [
      "Retrieving response from http://vis-www.cs.umass.edu/lfw/lfw.tgz\n",
      "Response successful, writing to ./data/raw/lfw.tgz\n",
      "Successfully written to ./data/raw/lfw.tgz\n"
     ]
    }
   ],
   "source": [
    "# Download and unpack dataset\n",
    "lfw_url = 'http://vis-www.cs.umass.edu/lfw/lfw.tgz'\n",
    "lfw_target_path = os.path.join(top_path, paths[0], 'lfw.tgz')\n",
    "\n",
    "download_file(lfw_url, lfw_target_path, 'wb')\n",
    "\n",
    "file = tarfile.open(lfw_target_path)\n",
    "file.extractall('/'.join(lfw_target_path.split('/')[:-1]))\n",
    "file.close()"
   ]
  },
  {
   "cell_type": "code",
   "execution_count": 5,
   "id": "5c26f3c2",
   "metadata": {},
   "outputs": [
    {
     "name": "stdout",
     "output_type": "stream",
     "text": [
      "Retrieving response from https://vis-www.cs.umass.edu/lfw/peopleDevTrain.txt\n",
      "Response successful, writing to ./data/raw/peopleDevTrain.txt\n",
      "Successfully written to ./data/raw/peopleDevTrain.txt\n",
      "Retrieving response from https://vis-www.cs.umass.edu/lfw/peopleDevTest.txt\n",
      "Response successful, writing to ./data/raw/peopleDevTest.txt\n",
      "Successfully written to ./data/raw/peopleDevTest.txt\n"
     ]
    },
    {
     "name": "stderr",
     "output_type": "stream",
     "text": [
      "/home/josh/.local/lib/python3.8/site-packages/urllib3/connectionpool.py:1045: InsecureRequestWarning: Unverified HTTPS request is being made to host 'vis-www.cs.umass.edu'. Adding certificate verification is strongly advised. See: https://urllib3.readthedocs.io/en/1.26.x/advanced-usage.html#ssl-warnings\n",
      "  warnings.warn(\n",
      "/home/josh/.local/lib/python3.8/site-packages/urllib3/connectionpool.py:1045: InsecureRequestWarning: Unverified HTTPS request is being made to host 'vis-www.cs.umass.edu'. Adding certificate verification is strongly advised. See: https://urllib3.readthedocs.io/en/1.26.x/advanced-usage.html#ssl-warnings\n",
      "  warnings.warn(\n"
     ]
    }
   ],
   "source": [
    "# Download train/test split instructions\n",
    "\n",
    "train_instructions_url = 'https://vis-www.cs.umass.edu/lfw/peopleDevTrain.txt'\n",
    "test_instructions_url = 'https://vis-www.cs.umass.edu/lfw/peopleDevTest.txt'\n",
    "train_instructions_path = os.path.join(top_path, paths[0], 'peopleDevTrain.txt')\n",
    "test_instructions_path = os.path.join(top_path, paths[0], 'peopleDevTest.txt')\n",
    "\n",
    "urls = [train_instructions_url, test_instructions_url]\n",
    "instruction_paths = [train_instructions_path, test_instructions_path]\n",
    "\n",
    "for i, url in enumerate(urls):\n",
    "    download_file(url, instruction_paths[i], 'w')"
   ]
  },
  {
   "cell_type": "code",
   "execution_count": 6,
   "id": "d74c06f5",
   "metadata": {},
   "outputs": [],
   "source": [
    "# Move files outside of unzipped directory into train/test\n",
    "for i, instruction in enumerate(instruction_paths):\n",
    "    with open(instruction, 'r') as f:\n",
    "        name_list = [[int(y) if y.isdigit() else y for y in x.strip().split('\\t')] for x in f.readlines()[1:]]\n",
    "    for pair in name_list:\n",
    "        name, amount = pair\n",
    "        image_dir = os.path.join(top_path, paths[0], f'lfw/{name}')\n",
    "        target_dir = os.path.join(top_path, paths[0], partitions[i])\n",
    "        \n",
    "        for j in range(1, amount + 1):\n",
    "            image_name = f'{name}_{j:04}.jpg'\n",
    "            image_path = os.path.join(image_dir, image_name)\n",
    "            target_path = os.path.join(target_dir, image_name)\n",
    "            shutil.move(image_path, target_path)"
   ]
  },
  {
   "cell_type": "code",
   "execution_count": 7,
   "id": "b7f9aefa",
   "metadata": {},
   "outputs": [],
   "source": [
    "# Remove empty LFW directory and .tgz file\n",
    "if os.path.exists('./data/raw/lfw'):\n",
    "    for directory in os.listdir('./data/raw/lfw'):\n",
    "        os.rmdir(os.path.join('./data/raw/lfw', directory))\n",
    "    os.rmdir('./data/raw/lfw')\n",
    "    \n",
    "if os.path.exists('./data/raw/lfw.tgz'):\n",
    "    os.remove('./data/raw/lfw.tgz')"
   ]
  },
  {
   "cell_type": "code",
   "execution_count": null,
   "id": "cb13069c",
   "metadata": {},
   "outputs": [],
   "source": []
  }
 ],
 "metadata": {
  "kernelspec": {
   "display_name": "Python 3 (ipykernel)",
   "language": "python",
   "name": "python3"
  },
  "language_info": {
   "codemirror_mode": {
    "name": "ipython",
    "version": 3
   },
   "file_extension": ".py",
   "mimetype": "text/x-python",
   "name": "python",
   "nbconvert_exporter": "python",
   "pygments_lexer": "ipython3",
   "version": "3.8.10"
  }
 },
 "nbformat": 4,
 "nbformat_minor": 5
}
