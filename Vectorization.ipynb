{
 "cells": [
  {
   "cell_type": "code",
   "execution_count": null,
   "id": "a9e67145",
   "metadata": {},
   "outputs": [],
   "source": [
    "import cv2\n",
    "import os\n",
    "import pickle\n",
    "import numpy as np\n",
    "import pandas as pd\n",
    "import src.preprocess as preprocess\n",
    "from src.preprocess import ImagePreprocessor\n",
    "import src.calculation as calculation\n",
    "import src.deepvectorizer as dp\n",
    "import matplotlib.pyplot as plt\n",
    "import seaborn as sns\n",
    "import json"
   ]
  },
  {
   "cell_type": "code",
   "execution_count": null,
   "id": "b42a3640",
   "metadata": {},
   "outputs": [],
   "source": [
    "image1_path = './data/raw/test/Abdullah_Gul_0006.jpg'\n",
    "image2_path = './data/raw/test/Abdullah_Gul_0005.jpg'\n",
    "image3_path = './data/raw/test/Adrien_Brody_0005.jpg'"
   ]
  },
  {
   "cell_type": "code",
   "execution_count": null,
   "id": "0ee26d86",
   "metadata": {},
   "outputs": [],
   "source": [
    "vectorizer = dp.get_deepface_vectorizer('./pretrained_models/VGGFace2_DeepFace_weights_val-0.9034.h5')"
   ]
  },
  {
   "cell_type": "code",
   "execution_count": null,
   "id": "ad693278",
   "metadata": {},
   "outputs": [],
   "source": [
    "resized_path = './data/preprocessed/resized_for_original_deepface/all'\n",
    "dest_root = './data/vectorized/padded_152'\n",
    "\n",
    "if not os.path.exists(dest_root):\n",
    "    os.makedirs(dest_root)\n",
    "    \n",
    "for i, image_name in enumerate(os.listdir(resized_path)):\n",
    "    image_path = os.path.join(resized_path, image_name)\n",
    "    print(f'Vectorizing image {i + 1} from {image_path}')\n",
    "    vector_path = os.path.join(dest_root, image_name.split('.')[0] + '-pad_152.pickle')\n",
    "    \n",
    "    if os.path.exists(vector_path):\n",
    "        print(f'Vector {i + 1} already exists as {vector_path}')\n",
    "        continue\n",
    "    \n",
    "    image = cv2.imread(image_path)[:, :, ::-1]\n",
    "    vector = dp.get_image_vector(image, vectorizer)\n",
    "    \n",
    "    with open(vector_path, 'wb') as f:\n",
    "        print(f'Pickling vector {i + 1} at {vector_path}')\n",
    "        pickle.dump(vector, f)\n",
    "    "
   ]
  },
  {
   "cell_type": "code",
   "execution_count": null,
   "id": "980ad892",
   "metadata": {},
   "outputs": [],
   "source": []
  },
  {
   "cell_type": "code",
   "execution_count": null,
   "id": "5b4ca1d0",
   "metadata": {},
   "outputs": [],
   "source": [
    "padded_152_vector_path = './data/vectorized/padded_152'"
   ]
  },
  {
   "cell_type": "code",
   "execution_count": null,
   "id": "1ae78c79",
   "metadata": {},
   "outputs": [],
   "source": [
    "unique_names = sorted(list(set(['_'.join(x.split('_')[0:-2]) for x in os.listdir(padded_152_vector_path)])))"
   ]
  },
  {
   "cell_type": "code",
   "execution_count": null,
   "id": "1adbdccd",
   "metadata": {},
   "outputs": [],
   "source": [
    "intra_distances = {}\n",
    "\n",
    "for name in unique_names:\n",
    "    intra_distances[name] = {'l2_distances': [], 'cosine_distances': []}"
   ]
  },
  {
   "cell_type": "code",
   "execution_count": null,
   "id": "9965c259",
   "metadata": {},
   "outputs": [],
   "source": [
    "for i, name in enumerate(unique_names):\n",
    "    print(f'Calculating intra-label distances for {name}')\n",
    "    vector_paths = sorted([x for x in os.listdir(padded_152_vector_path) if name in x])\n",
    "    name_l2_distances = []\n",
    "    name_cos_distances = []\n",
    "    \n",
    "    for j, vector1_leaf in enumerate(vector_paths):\n",
    "        if j == len(vector_paths) - 1:\n",
    "            continue\n",
    "            \n",
    "        vector1_path = os.path.join(padded_152_vector_path, vector1_leaf)\n",
    "        with open(vector1_path, 'rb') as f:\n",
    "            print(f'Loading {vector1_path}')\n",
    "            vector_1 = pickle.load(f)\n",
    "        for vector2_leaf in vector_paths[j + 1:]:\n",
    "            vector2_path = os.path.join(padded_152_vector_path, vector2_leaf)\n",
    "            with open(vector2_path, 'rb') as g:\n",
    "                print(f'Loading {vector2_path}')\n",
    "                vector_2 = pickle.load(g)\n",
    "            print(f'Calculating distances between {vector1_leaf} and {vector2_leaf}')\n",
    "            name_l2_distances.append((f'{vector1_leaf}', f'{vector2_leaf}',\n",
    "                                      calculation.l2_distance(vector_1, vector_2).astype(float)))\n",
    "            name_cos_distances.append((f'{vector1_leaf}', f'{vector2_leaf}',\n",
    "                                       calculation.cosine_distance(vector_1, vector_2).astype(float)))\n",
    "    print(f'Appending intra-label distances for {name} to dictionary')\n",
    "    intra_distances[name]['l2_distances'] = name_l2_distances\n",
    "    intra_distances[name]['cosine_distances'] = name_cos_distances"
   ]
  },
  {
   "cell_type": "code",
   "execution_count": null,
   "id": "4cc6ab55",
   "metadata": {},
   "outputs": [],
   "source": [
    "with open('./data/vectorized/padded_152_intra_distances.json', 'w') as f:\n",
    "    json.dump(intra_distances, f, indent = '\\t')"
   ]
  },
  {
   "cell_type": "code",
   "execution_count": null,
   "id": "2cd2b70f",
   "metadata": {},
   "outputs": [],
   "source": [
    "intra_df = pd.DataFrame.from_dict(intra_distances, orient = 'index').reset_index()"
   ]
  },
  {
   "cell_type": "code",
   "execution_count": null,
   "id": "4c4cd044",
   "metadata": {},
   "outputs": [],
   "source": [
    "intra_df = intra_df.loc[intra_df.l2_distances.apply(len).gt(0)]"
   ]
  },
  {
   "cell_type": "code",
   "execution_count": null,
   "id": "7b7f96cb",
   "metadata": {},
   "outputs": [],
   "source": [
    "intra_l2_df = intra_df[['index', 'l2_distances']]\n",
    "intra_l2_df = intra_l2_df.explode('l2_distances')\n",
    "intra_l2_df.l2_distances = intra_l2_df.l2_distances.apply(lambda x: x[-1])\n",
    "intra_l2_df.to_csv('./data/vectorized/padded_152_intra_distances_l2.csv')"
   ]
  },
  {
   "cell_type": "code",
   "execution_count": null,
   "id": "2479530c",
   "metadata": {},
   "outputs": [],
   "source": [
    "intra_cos_df = intra_df[['index', 'cosine_distances']]\n",
    "intra_cos_df = intra_cos_df.explode('cosine_distances')\n",
    "intra_cos_df.cosine_distances = intra_cos_df.cosine_distances.apply(lambda x: x[-1])\n",
    "intra_cos_df.to_csv('./data/vectorized/padded_152_intra_distances_cos.csv')"
   ]
  },
  {
   "cell_type": "code",
   "execution_count": null,
   "id": "70ee7744",
   "metadata": {},
   "outputs": [],
   "source": [
    "intra_l2_df.describe()"
   ]
  },
  {
   "cell_type": "code",
   "execution_count": null,
   "id": "389ff140",
   "metadata": {},
   "outputs": [],
   "source": [
    "sns.histplot(data = intra_l2_df, x = 'l2_distances', stat = 'count', bins = 50);"
   ]
  },
  {
   "cell_type": "code",
   "execution_count": null,
   "id": "755dc3b8",
   "metadata": {},
   "outputs": [],
   "source": [
    "sns.histplot(data = intra_cos_df, x = 'cosine_distances', stat = 'count', bins = 50);"
   ]
  },
  {
   "cell_type": "code",
   "execution_count": null,
   "id": "95032d51",
   "metadata": {},
   "outputs": [],
   "source": []
  },
  {
   "cell_type": "code",
   "execution_count": null,
   "id": "f25d5700",
   "metadata": {},
   "outputs": [],
   "source": [
    "inter_distances = {}\n",
    "\n",
    "for name in unique_names:\n",
    "    inter_distances[name] = {'l2_distances': [], 'cosine_distances': []}"
   ]
  },
  {
   "cell_type": "code",
   "execution_count": null,
   "id": "8f3f8df8",
   "metadata": {},
   "outputs": [],
   "source": [
    "for i, name in enumerate(unique_names):\n",
    "    print(f'Calculating inter-label distances for {name}')\n",
    "    vector1_paths = sorted([x for x in os.listdir(padded_152_vector_path) if name in x])\n",
    "    vector2_paths = sorted([x for x in os.listdir(padded_152_vector_path) if name not in x])\n",
    "    name_l2_distances = []\n",
    "    name_cos_distances = []\n",
    "    \n",
    "    for vector1_leaf in vector1_paths:\n",
    "        vector1_path = os.path.join(padded_152_vector_path, vector1_leaf)\n",
    "        with open(vector1_path, 'rb') as f:\n",
    "            print(f'Loading {vector1_path}')\n",
    "            vector_1 = pickle.load(f)\n",
    "        for vector2_leaf in vector2_paths:\n",
    "            vector2_path = os.path.join(padded_152_vector_path, vector2_leaf)\n",
    "            with open(vector2_path, 'rb') as g:\n",
    "                print(f'Loading {vector2_path}')\n",
    "                vector_2 = pickle.load(g)\n",
    "            print(f'Calculating distances between {vector1_leaf} and {vector2_leaf}')\n",
    "            name_l2_distances.append((f'{vector1_leaf}', f'{vector2_leaf}',\n",
    "                                      calculation.l2_distance(vector_1, vector_2).astype(float)))\n",
    "            name_cos_distances.append((f'{vector1_leaf}', f'{vector2_leaf}',\n",
    "                                       calculation.cosine_distance(vector_1, vector_2).astype(float)))\n",
    "    print(f'Appending inter-label distances for {name} to dictionary')\n",
    "    intra_distances[name]['l2_distances'] = name_l2_distances\n",
    "    intra_distances[name]['cosine_distances'] = name_cos_distances"
   ]
  },
  {
   "cell_type": "code",
   "execution_count": null,
   "id": "36aff6ee",
   "metadata": {},
   "outputs": [],
   "source": []
  },
  {
   "cell_type": "code",
   "execution_count": null,
   "id": "b2e99b8a",
   "metadata": {},
   "outputs": [],
   "source": []
  },
  {
   "cell_type": "code",
   "execution_count": null,
   "id": "2c04af1d",
   "metadata": {},
   "outputs": [],
   "source": []
  },
  {
   "cell_type": "code",
   "execution_count": null,
   "id": "e33483d3",
   "metadata": {},
   "outputs": [],
   "source": []
  },
  {
   "cell_type": "code",
   "execution_count": null,
   "id": "699090c6",
   "metadata": {},
   "outputs": [],
   "source": []
  },
  {
   "cell_type": "code",
   "execution_count": null,
   "id": "bc147da6",
   "metadata": {},
   "outputs": [],
   "source": [
    "prep1 = ImagePreprocessor(image1_path)\n",
    "prep2 = ImagePreprocessor(image2_path)\n",
    "prep3 = ImagePreprocessor(image3_path)"
   ]
  },
  {
   "cell_type": "code",
   "execution_count": null,
   "id": "ff7b0c26",
   "metadata": {},
   "outputs": [],
   "source": [
    "prep1.set_vectorizer(vectorizer)\n",
    "prep2.set_vectorizer(vectorizer)\n",
    "prep3.set_vectorizer(vectorizer)"
   ]
  },
  {
   "cell_type": "code",
   "execution_count": null,
   "id": "d1a6ee5b",
   "metadata": {},
   "outputs": [],
   "source": [
    "prep1.preprocess_image(pad = True)\n",
    "prep2.preprocess_image(pad = True)\n",
    "prep3.preprocess_image(pad = True)"
   ]
  },
  {
   "cell_type": "code",
   "execution_count": null,
   "id": "a12a17ad",
   "metadata": {},
   "outputs": [],
   "source": [
    "prep1.vectorize()\n",
    "prep2.vectorize()\n",
    "prep3.vectorize()"
   ]
  },
  {
   "cell_type": "code",
   "execution_count": null,
   "id": "8ec38813",
   "metadata": {},
   "outputs": [],
   "source": [
    "vector1 = prep1.get_vector()\n",
    "vector2 = prep2.get_vector()\n",
    "vector3 = prep3.get_vector()"
   ]
  },
  {
   "cell_type": "code",
   "execution_count": null,
   "id": "a2637ad2",
   "metadata": {},
   "outputs": [],
   "source": [
    "dist_v1v2 = calculation.l2_distance(vector1, vector2)\n",
    "dist_v1v3 = calculation.l2_distance(vector1, vector3)\n",
    "dist_v2v3 = calculation.l2_distance(vector2, vector3)"
   ]
  },
  {
   "cell_type": "code",
   "execution_count": null,
   "id": "fa666d7a",
   "metadata": {},
   "outputs": [],
   "source": [
    "dist_v1v2, dist_v1v3, dist_v2v3"
   ]
  },
  {
   "cell_type": "code",
   "execution_count": null,
   "id": "8bf1ad53",
   "metadata": {},
   "outputs": [],
   "source": [
    "distcos_v1v2 = calculation.cosine_distance(vector1, vector2)\n",
    "distcos_v1v3 = calculation.cosine_distance(vector1, vector3)\n",
    "distcos_v2v3 = calculation.cosine_distance(vector2, vector3)"
   ]
  },
  {
   "cell_type": "code",
   "execution_count": null,
   "id": "b1cde51c",
   "metadata": {},
   "outputs": [],
   "source": [
    "distcos_v1v2, distcos_v1v3, distcos_v2v3"
   ]
  },
  {
   "cell_type": "code",
   "execution_count": null,
   "id": "0d983def",
   "metadata": {},
   "outputs": [],
   "source": [
    "fig, ax = plt.subplots(1, 3, figsize = (15, 10))\n",
    "\n",
    "ax[0].imshow(prep1.get_image());\n",
    "ax[1].imshow(prep2.get_image());\n",
    "ax[2].imshow(prep3.get_image());"
   ]
  },
  {
   "cell_type": "code",
   "execution_count": null,
   "id": "f5fcbf4f",
   "metadata": {},
   "outputs": [],
   "source": [
    "fig, ax = plt.subplots(1, 3, figsize = (15, 10))\n",
    "\n",
    "ax[0].imshow(prep1.get_resized_image());\n",
    "ax[1].imshow(prep2.get_resized_image());\n",
    "ax[2].imshow(prep3.get_resized_image());"
   ]
  },
  {
   "cell_type": "code",
   "execution_count": null,
   "id": "9e57f499",
   "metadata": {},
   "outputs": [],
   "source": []
  },
  {
   "cell_type": "code",
   "execution_count": null,
   "id": "d415ec2d",
   "metadata": {},
   "outputs": [],
   "source": []
  }
 ],
 "metadata": {
  "kernelspec": {
   "display_name": "Python 3 (ipykernel)",
   "language": "python",
   "name": "python3"
  },
  "language_info": {
   "codemirror_mode": {
    "name": "ipython",
    "version": 3
   },
   "file_extension": ".py",
   "mimetype": "text/x-python",
   "name": "python",
   "nbconvert_exporter": "python",
   "pygments_lexer": "ipython3",
   "version": "3.8.10"
  }
 },
 "nbformat": 4,
 "nbformat_minor": 5
}
